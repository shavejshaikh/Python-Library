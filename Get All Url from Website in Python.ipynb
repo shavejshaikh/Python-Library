{
 "cells": [
  {
   "cell_type": "code",
   "execution_count": 1,
   "metadata": {},
   "outputs": [],
   "source": [
    "from bs4 import BeautifulSoup"
   ]
  },
  {
   "cell_type": "code",
   "execution_count": 2,
   "metadata": {},
   "outputs": [],
   "source": [
    "import urllib.request as urllib2"
   ]
  },
  {
   "cell_type": "code",
   "execution_count": 3,
   "metadata": {},
   "outputs": [],
   "source": [
    "import re"
   ]
  },
  {
   "cell_type": "code",
   "execution_count": 4,
   "metadata": {},
   "outputs": [
    {
     "name": "stdout",
     "output_type": "stream",
     "text": [
      "<a href=\"http://www.google.com/setprefdomain?prefdom=IN&amp;prev=http://www.google.co.in/&amp;sig=K_guGqHbo13IE2pxKEwK2y84ZZ69U%3D\">Google.co.inhttp://www.google.com/setprefdomain?prefdom=IN&amp;prev=http://www.google.co.in/&amp;sig=K_guGqHbo13IE2pxKEwK2y84ZZ69U%3D</a>\n"
     ]
    }
   ],
   "source": [
    "def geturllinks(url):\n",
    "    html_page = urllib2.urlopen(url)\n",
    "    soup =BeautifulSoup(html_page)\n",
    "    \n",
    "    links=[]\n",
    "    for links in soup.findAll('a',attrs={'href':re.compile(\"^http://\")}):\n",
    "        links.append(links.get('href'))\n",
    "        \n",
    "    return links\n",
    "\n",
    "links= geturllinks(\"http://www.google.com\")\n",
    "print(links)"
   ]
  }
 ],
 "metadata": {
  "kernelspec": {
   "display_name": "Python 3",
   "language": "python",
   "name": "python3"
  },
  "language_info": {
   "codemirror_mode": {
    "name": "ipython",
    "version": 3
   },
   "file_extension": ".py",
   "mimetype": "text/x-python",
   "name": "python",
   "nbconvert_exporter": "python",
   "pygments_lexer": "ipython3",
   "version": "3.7.2"
  }
 },
 "nbformat": 4,
 "nbformat_minor": 4
}
