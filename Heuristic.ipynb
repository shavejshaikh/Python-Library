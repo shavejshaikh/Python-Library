{
 "cells": [
  {
   "cell_type": "code",
   "execution_count": 12,
   "metadata": {},
   "outputs": [
    {
     "name": "stdout",
     "output_type": "stream",
     "text": [
      "Enter hour\t12\n",
      "Enter minute\t60\n",
      "0.0\n"
     ]
    }
   ],
   "source": [
    "def hour(h,m):\n",
    "    \n",
    "    if h<0 or m<0 or h>12 or m>60:\n",
    "        print(\"Wrong Answer\")\n",
    "        \n",
    "    if h==12:\n",
    "        h=0\n",
    "    if m==60:\n",
    "        m=0\n",
    "        \n",
    "    hr=0.5*(h*60+m)\n",
    "    mn=6*m\n",
    "    \n",
    "    an=abs(hr-mn)\n",
    "    an=min(360-an,an);\n",
    "    return an\n",
    "    \n",
    "a=int(input(\"Enter hour\\t\"))\n",
    "b=int(input(\"Enter minute\\t\"))\n",
    "z=hour(a,b)\n",
    "print(z)"
   ]
  }
 ],
 "metadata": {
  "kernelspec": {
   "display_name": "Python 3",
   "language": "python",
   "name": "python3"
  },
  "language_info": {
   "codemirror_mode": {
    "name": "ipython",
    "version": 3
   },
   "file_extension": ".py",
   "mimetype": "text/x-python",
   "name": "python",
   "nbconvert_exporter": "python",
   "pygments_lexer": "ipython3",
   "version": "3.8.5"
  }
 },
 "nbformat": 4,
 "nbformat_minor": 2
}
