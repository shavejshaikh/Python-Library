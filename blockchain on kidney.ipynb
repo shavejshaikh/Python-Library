{
 "cells": [
  {
   "cell_type": "code",
   "execution_count": 1,
   "metadata": {},
   "outputs": [
    {
     "name": "stdout",
     "output_type": "stream",
     "text": [
      "Shavej 9892940612 A ffg4hh100 1591469583.4144566\n"
     ]
    },
    {
     "data": {
      "text/plain": [
       "'a1cf9aa83181bbcd41f8d2f4df03fa4a2a9f039039bf7f5440658c6e46463a93'"
      ]
     },
     "execution_count": 1,
     "metadata": {},
     "output_type": "execute_result"
    }
   ],
   "source": [
    "import time\n",
    "import hashlib\n",
    "\n",
    "class blockchain:\n",
    "    def __init__(self,name,number,blood,previous_hash):\n",
    "        self.name=name\n",
    "        self.number=number\n",
    "        self.blood=blood\n",
    "        self.previous_hash=previous_hash\n",
    "        self.time=time.time()\n",
    "        \n",
    "        \n",
    "    def create_new_block(self):\n",
    "        block_no=\"{} {} {} {} {}\".format(self.name,self.number,self.blood,self.previous_hash,self.time)\n",
    "        print(block_no)\n",
    "        return hashlib.sha256(block_no.encode()).hexdigest()\n",
    "    \n",
    "    \n",
    "b=blockchain('Shavej','9892940612','A','ffg4hh100')\n",
    "\n",
    "\n",
    "b.create_new_block()\n",
    "        "
   ]
  }
 ],
 "metadata": {
  "kernelspec": {
   "display_name": "Python 3",
   "language": "python",
   "name": "python3"
  },
  "language_info": {
   "codemirror_mode": {
    "name": "ipython",
    "version": 3
   },
   "file_extension": ".py",
   "mimetype": "text/x-python",
   "name": "python",
   "nbconvert_exporter": "python",
   "pygments_lexer": "ipython3",
   "version": "3.8.5"
  }
 },
 "nbformat": 4,
 "nbformat_minor": 2
}
