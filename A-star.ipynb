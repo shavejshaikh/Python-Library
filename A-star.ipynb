{
 "cells": [
  {
   "cell_type": "code",
   "execution_count": 1,
   "metadata": {},
   "outputs": [],
   "source": [
    "from numpy import array as ar"
   ]
  },
  {
   "cell_type": "code",
   "execution_count": 2,
   "metadata": {},
   "outputs": [
    {
     "name": "stdout",
     "output_type": "stream",
     "text": [
      "{'S': ['A', 'G'], 'A': ['B', 'C'], 'B': ['D'], 'C': ['D', 'G'], 'D': ['G'], 'G': []}\n"
     ]
    }
   ],
   "source": [
    "graph={\n",
    "    \"S\":[\"A\",\"G\"],\n",
    "    \"A\":[\"B\",\"C\"],\n",
    "    \"B\":[\"D\"],\n",
    "    \"C\":[\"D\",\"G\"],\n",
    "    \"D\":[\"G\"],\n",
    "    \"G\":[]\n",
    "    \n",
    "}\n",
    "print(graph)"
   ]
  },
  {
   "cell_type": "code",
   "execution_count": 3,
   "metadata": {},
   "outputs": [
    {
     "name": "stdout",
     "output_type": "stream",
     "text": [
      "S ['A', 'G']\n",
      "A ['B', 'C']\n",
      "B ['D']\n",
      "C ['D', 'G']\n",
      "D ['G']\n",
      "G []\n",
      "S\n",
      "A\n",
      "B\n",
      "C\n",
      "D\n",
      "G\n"
     ]
    }
   ],
   "source": [
    "for key, value in graph.items(): \n",
    "    print (key, value) \n",
    "\n",
    "for i in graph.keys(): \n",
    "    print(i) \n",
    "    \n",
    "edges=[]\n",
    "\n",
    "start='S'\n",
    "goal='G'\n",
    "\n",
    "# for i in graph:\n",
    "#     for j in graph[i]:\n",
    "#         edges.append((i,j))\n",
    "    \n",
    "# print(edges)"
   ]
  }
 ],
 "metadata": {
  "kernelspec": {
   "display_name": "Python 3",
   "language": "python",
   "name": "python3"
  },
  "language_info": {
   "codemirror_mode": {
    "name": "ipython",
    "version": 3
   },
   "file_extension": ".py",
   "mimetype": "text/x-python",
   "name": "python",
   "nbconvert_exporter": "python",
   "pygments_lexer": "ipython3",
   "version": "3.8.5"
  }
 },
 "nbformat": 4,
 "nbformat_minor": 2
}
